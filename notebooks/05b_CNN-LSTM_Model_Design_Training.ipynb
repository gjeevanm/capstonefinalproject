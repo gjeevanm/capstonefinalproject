{
  "cells": [
    {
      "cell_type": "markdown",
      "metadata": {
        "id": "view-in-github",
        "colab_type": "text"
      },
      "source": [
        "<a href=\"https://colab.research.google.com/github/gjeevanm/capstonefinalproject/blob/main/notebooks/05b_CNN-LSTM_Model_Design_Training.ipynb\" target=\"_parent\"><img src=\"https://colab.research.google.com/assets/colab-badge.svg\" alt=\"Open In Colab\"/></a>"
      ]
    },
    {
      "cell_type": "markdown",
      "id": "5ee2d7b9",
      "metadata": {
        "id": "5ee2d7b9"
      },
      "source": [
        "# 05b: CNN-LSTM Model Design and Training\n",
        "\n",
        "This notebook provides a comprehensive workflow for designing, training, and evaluating a hybrid CNN-LSTM model for ICU mortality prediction using preprocessed time series and static patient data.\n",
        "\n",
        "**Goals:**\n",
        "- Build a deep learning model that leverages both dynamic (time series) and static patient features\n",
        "- Implement a robust hybrid architecture combining CNN and LSTM layers for clinical time series analysis\n",
        "- Train the model using best practices including early stopping, model checkpointing, and comprehensive metrics\n",
        "- Evaluate model performance and visualize training dynamics\n",
        "- Save the trained model and training history for reproducibility and future evaluation\n",
        "- Lay the foundation for downstream evaluation, interpretation, and clinical application"
      ]
    },
    {
      "cell_type": "markdown",
      "id": "8bd3075b",
      "metadata": {
        "id": "8bd3075b"
      },
      "source": [
        "## Workflow Overview\n",
        "\n",
        "This notebook implements a complete CNN-LSTM model development pipeline for ICU mortality prediction. The workflow includes:\n",
        "\n",
        "1. **Imports and Configuration:** Set up environment, import libraries, and configure reproducibility settings\n",
        "2. **Data Loading and Validation:** Load preprocessed datasets and validate data integrity and shapes\n",
        "3. **Model Architecture Design:** Define hybrid CNN-LSTM architecture for sequence and static feature processing\n",
        "4. **Model Compilation:** Configure optimizer, loss function, and evaluation metrics\n",
        "5. **Model Training:** Train with early stopping, model checkpointing, and comprehensive monitoring\n",
        "6. **Model Evaluation:** Assess performance on test set with multiple metrics\n",
        "7. **Training Visualization:** Plot training curves and analyze model learning dynamics\n",
        "8. **Model Persistence:** Save trained model and training history for future use\n",
        "\n",
        "**Key Features:**\n",
        "- Hybrid architecture combining CNN temporal feature extraction with LSTM sequence modeling\n",
        "- Multi-input design handling both time series and static patient features\n",
        "- Robust training with early stopping and best model checkpointing\n",
        "- Comprehensive evaluation with AUC, precision, recall, and accuracy metrics"
      ]
    },
    {
      "cell_type": "markdown",
      "id": "322b32ec",
      "metadata": {
        "id": "322b32ec"
      },
      "source": [
        "## 1. Imports and Configuration\n",
        "\n",
        "Import all necessary libraries for deep learning model development, training, and evaluation. Set random seeds for reproducibility and configure the environment for consistent results across runs.\n",
        "\n",
        "**Key Libraries:**\n",
        "- **TensorFlow/Keras:** Deep learning framework for model building and training\n",
        "- **NumPy:** Numerical computing for data manipulation\n",
        "- **Matplotlib:** Visualization for training curves and model analysis\n",
        "- **SHAP:** Model interpretability and feature importance analysis\n",
        "- **Pickle:** Model and history serialization for persistence"
      ]
    },
    {
      "cell_type": "code",
      "execution_count": 40,
      "id": "25923e25",
      "metadata": {
        "id": "25923e25"
      },
      "outputs": [],
      "source": [
        "# Imports and Configuration\n",
        "import numpy as np\n",
        "import tensorflow as tf\n",
        "from tensorflow.keras.models import Model\n",
        "from tensorflow.keras.layers import Input, Conv1D, LSTM, Dense, Dropout, Concatenate\n",
        "from tensorflow.keras.regularizers import l2\n",
        "from tensorflow.keras.callbacks import EarlyStopping, ModelCheckpoint\n",
        "import pickle\n",
        "import matplotlib.pyplot as plt\n",
        "import shap\n",
        "import pandas as pd\n",
        "from tensorflow.keras.layers import Input, Conv1D, MaxPooling1D, LSTM, Dense, Concatenate, Dropout\n",
        "from tensorflow.keras.models import Model\n",
        "from tensorflow.keras.regularizers import l2\n",
        "from tensorflow.keras.callbacks import EarlyStopping, ModelCheckpoint\n",
        "import os\n",
        "from sklearn.metrics import classification_report, roc_curve, auc, confusion_matrix\n",
        "import matplotlib.pyplot as plt\n",
        "import numpy as np\n",
        "import seaborn as sns\n",
        "\n",
        "np.random.seed(42)\n",
        "tf.random.set_seed(42)"
      ]
    },
    {
      "cell_type": "markdown",
      "id": "7a58df4c",
      "metadata": {
        "id": "7a58df4c"
      },
      "source": [
        "## 2. Data Loading and Validation\n",
        "\n",
        "Load the preprocessed datasets from the data preparation notebook and validate data integrity. The datasets include hourly time series sequences, static patient features, and binary mortality outcomes.\n",
        "\n",
        "**Data Components:**\n",
        "- **Time Series Data:** Hourly physiological measurements over 48-hour ICU stays\n",
        "- **Static Features:** Patient demographics and baseline clinical measurements  \n",
        "- **Target Variable:** Binary ICU mortality outcome (0 = survived, 1 = deceased)\n",
        "\n",
        "**Data Splits:**\n",
        "- **Training Set:** Used for model training with SMOTE-balanced classes\n",
        "- **Validation Set:** Used for hyperparameter tuning and early stopping\n",
        "- **Test Set:** Used for final model evaluation and performance assessment"
      ]
    },
    {
      "cell_type": "code",
      "execution_count": 41,
      "id": "a688b23c",
      "metadata": {
        "id": "a688b23c"
      },
      "outputs": [],
      "source": [
        "# Load prepared data\n",
        "data = np.load('/content/sample_data/cnn_lstm_hourly_data.npz', allow_pickle=True)\n",
        "\n",
        "# Time-series inputs\n",
        "X_train_final = data['X_train']\n",
        "X_val_final   = data['X_val']\n",
        "X_test_final  = data['X_test']\n",
        "\n",
        "# Static inputs\n",
        "static_train_final = data['static_train']\n",
        "static_val_final   = data['static_val']\n",
        "static_test_final  = data['static_test']\n",
        "\n",
        "# Labels\n",
        "y_train_final = data['y_train']\n",
        "y_val_final   = data['y_val']\n",
        "y_test_final  = data['y_test']"
      ]
    },
    {
      "cell_type": "markdown",
      "id": "12c2630e",
      "metadata": {
        "id": "12c2630e"
      },
      "source": [
        "## 3. Model Architecture: CNN-LSTM Hybrid\n",
        "\n",
        "This section defines a hybrid deep learning model that combines convolutional neural networks (CNN) and long short-term memory (LSTM) layers for ICU mortality prediction. The architecture is designed to leverage both temporal patterns in time series data and static patient features.\n",
        "\n",
        "**Key Design Choices:**\n",
        "- **CNN Layers:** Extract local temporal features from the time series input, capturing short-term dependencies and patterns.\n",
        "- **LSTM Layer:** Captures long-term dependencies and trends in the sequential data, which are important for patient outcome prediction.\n",
        "- **Static Input:** Patient static features (e.g., demographics, baseline measurements) are included as a separate input and concatenated with the sequence features after feature extraction.\n",
        "- **Dense Layers:** Combine the extracted sequence and static features to learn complex interactions.\n",
        "- **Regularization:** Dropout and L2 regularization are used to prevent overfitting and improve generalization.\n",
        "- **Output Layer:** A single neuron with sigmoid activation for binary classification (mortality prediction).\n",
        "\n",
        "**Inputs:**\n",
        "- Time series features: shape = [batch, timesteps, features]\n",
        "- Static features: shape = [batch, static_features]\n",
        "\n",
        "**Output:**\n",
        "- Binary prediction: 0 = survived, 1 = deceased\n",
        "\n",
        "\n"
      ]
    },
    {
      "cell_type": "code",
      "execution_count": 42,
      "id": "37b857f4",
      "metadata": {
        "colab": {
          "base_uri": "https://localhost:8080/",
          "height": 867
        },
        "id": "37b857f4",
        "outputId": "144e1815-7f0b-4281-dc26-6b3d187224be"
      },
      "outputs": [
        {
          "output_type": "display_data",
          "data": {
            "text/plain": [
              "\u001b[1mModel: \"functional_3\"\u001b[0m\n"
            ],
            "text/html": [
              "<pre style=\"white-space:pre;overflow-x:auto;line-height:normal;font-family:Menlo,'DejaVu Sans Mono',consolas,'Courier New',monospace\"><span style=\"font-weight: bold\">Model: \"functional_3\"</span>\n",
              "</pre>\n"
            ]
          },
          "metadata": {}
        },
        {
          "output_type": "display_data",
          "data": {
            "text/plain": [
              "┏━━━━━━━━━━━━━━━━━━━━━┳━━━━━━━━━━━━━━━━━━━┳━━━━━━━━━━━━┳━━━━━━━━━━━━━━━━━━━┓\n",
              "┃\u001b[1m \u001b[0m\u001b[1mLayer (type)       \u001b[0m\u001b[1m \u001b[0m┃\u001b[1m \u001b[0m\u001b[1mOutput Shape     \u001b[0m\u001b[1m \u001b[0m┃\u001b[1m \u001b[0m\u001b[1m   Param #\u001b[0m\u001b[1m \u001b[0m┃\u001b[1m \u001b[0m\u001b[1mConnected to     \u001b[0m\u001b[1m \u001b[0m┃\n",
              "┡━━━━━━━━━━━━━━━━━━━━━╇━━━━━━━━━━━━━━━━━━━╇━━━━━━━━━━━━╇━━━━━━━━━━━━━━━━━━━┩\n",
              "│ time_series_input   │ (\u001b[38;5;45mNone\u001b[0m, \u001b[38;5;34m48\u001b[0m, \u001b[38;5;34m28\u001b[0m)    │          \u001b[38;5;34m0\u001b[0m │ -                 │\n",
              "│ (\u001b[38;5;33mInputLayer\u001b[0m)        │                   │            │                   │\n",
              "├─────────────────────┼───────────────────┼────────────┼───────────────────┤\n",
              "│ conv1d_6 (\u001b[38;5;33mConv1D\u001b[0m)   │ (\u001b[38;5;45mNone\u001b[0m, \u001b[38;5;34m48\u001b[0m, \u001b[38;5;34m64\u001b[0m)    │      \u001b[38;5;34m5,440\u001b[0m │ time_series_inpu… │\n",
              "├─────────────────────┼───────────────────┼────────────┼───────────────────┤\n",
              "│ max_pooling1d_6     │ (\u001b[38;5;45mNone\u001b[0m, \u001b[38;5;34m24\u001b[0m, \u001b[38;5;34m64\u001b[0m)    │          \u001b[38;5;34m0\u001b[0m │ conv1d_6[\u001b[38;5;34m0\u001b[0m][\u001b[38;5;34m0\u001b[0m]    │\n",
              "│ (\u001b[38;5;33mMaxPooling1D\u001b[0m)      │                   │            │                   │\n",
              "├─────────────────────┼───────────────────┼────────────┼───────────────────┤\n",
              "│ dropout_12          │ (\u001b[38;5;45mNone\u001b[0m, \u001b[38;5;34m24\u001b[0m, \u001b[38;5;34m64\u001b[0m)    │          \u001b[38;5;34m0\u001b[0m │ max_pooling1d_6[\u001b[38;5;34m…\u001b[0m │\n",
              "│ (\u001b[38;5;33mDropout\u001b[0m)           │                   │            │                   │\n",
              "├─────────────────────┼───────────────────┼────────────┼───────────────────┤\n",
              "│ conv1d_7 (\u001b[38;5;33mConv1D\u001b[0m)   │ (\u001b[38;5;45mNone\u001b[0m, \u001b[38;5;34m24\u001b[0m, \u001b[38;5;34m128\u001b[0m)   │     \u001b[38;5;34m24,704\u001b[0m │ dropout_12[\u001b[38;5;34m0\u001b[0m][\u001b[38;5;34m0\u001b[0m]  │\n",
              "├─────────────────────┼───────────────────┼────────────┼───────────────────┤\n",
              "│ max_pooling1d_7     │ (\u001b[38;5;45mNone\u001b[0m, \u001b[38;5;34m24\u001b[0m, \u001b[38;5;34m128\u001b[0m)   │          \u001b[38;5;34m0\u001b[0m │ conv1d_7[\u001b[38;5;34m0\u001b[0m][\u001b[38;5;34m0\u001b[0m]    │\n",
              "│ (\u001b[38;5;33mMaxPooling1D\u001b[0m)      │                   │            │                   │\n",
              "├─────────────────────┼───────────────────┼────────────┼───────────────────┤\n",
              "│ dropout_13          │ (\u001b[38;5;45mNone\u001b[0m, \u001b[38;5;34m24\u001b[0m, \u001b[38;5;34m128\u001b[0m)   │          \u001b[38;5;34m0\u001b[0m │ max_pooling1d_7[\u001b[38;5;34m…\u001b[0m │\n",
              "│ (\u001b[38;5;33mDropout\u001b[0m)           │                   │            │                   │\n",
              "├─────────────────────┼───────────────────┼────────────┼───────────────────┤\n",
              "│ static_input        │ (\u001b[38;5;45mNone\u001b[0m, \u001b[38;5;34m7\u001b[0m)         │          \u001b[38;5;34m0\u001b[0m │ -                 │\n",
              "│ (\u001b[38;5;33mInputLayer\u001b[0m)        │                   │            │                   │\n",
              "├─────────────────────┼───────────────────┼────────────┼───────────────────┤\n",
              "│ lstm_3 (\u001b[38;5;33mLSTM\u001b[0m)       │ (\u001b[38;5;45mNone\u001b[0m, \u001b[38;5;34m64\u001b[0m)        │     \u001b[38;5;34m49,408\u001b[0m │ dropout_13[\u001b[38;5;34m0\u001b[0m][\u001b[38;5;34m0\u001b[0m]  │\n",
              "├─────────────────────┼───────────────────┼────────────┼───────────────────┤\n",
              "│ dense_12 (\u001b[38;5;33mDense\u001b[0m)    │ (\u001b[38;5;45mNone\u001b[0m, \u001b[38;5;34m32\u001b[0m)        │        \u001b[38;5;34m256\u001b[0m │ static_input[\u001b[38;5;34m0\u001b[0m][\u001b[38;5;34m…\u001b[0m │\n",
              "├─────────────────────┼───────────────────┼────────────┼───────────────────┤\n",
              "│ dropout_14          │ (\u001b[38;5;45mNone\u001b[0m, \u001b[38;5;34m64\u001b[0m)        │          \u001b[38;5;34m0\u001b[0m │ lstm_3[\u001b[38;5;34m0\u001b[0m][\u001b[38;5;34m0\u001b[0m]      │\n",
              "│ (\u001b[38;5;33mDropout\u001b[0m)           │                   │            │                   │\n",
              "├─────────────────────┼───────────────────┼────────────┼───────────────────┤\n",
              "│ dense_13 (\u001b[38;5;33mDense\u001b[0m)    │ (\u001b[38;5;45mNone\u001b[0m, \u001b[38;5;34m16\u001b[0m)        │        \u001b[38;5;34m528\u001b[0m │ dense_12[\u001b[38;5;34m0\u001b[0m][\u001b[38;5;34m0\u001b[0m]    │\n",
              "├─────────────────────┼───────────────────┼────────────┼───────────────────┤\n",
              "│ concatenate_3       │ (\u001b[38;5;45mNone\u001b[0m, \u001b[38;5;34m80\u001b[0m)        │          \u001b[38;5;34m0\u001b[0m │ dropout_14[\u001b[38;5;34m0\u001b[0m][\u001b[38;5;34m0\u001b[0m], │\n",
              "│ (\u001b[38;5;33mConcatenate\u001b[0m)       │                   │            │ dense_13[\u001b[38;5;34m0\u001b[0m][\u001b[38;5;34m0\u001b[0m]    │\n",
              "├─────────────────────┼───────────────────┼────────────┼───────────────────┤\n",
              "│ dense_14 (\u001b[38;5;33mDense\u001b[0m)    │ (\u001b[38;5;45mNone\u001b[0m, \u001b[38;5;34m64\u001b[0m)        │      \u001b[38;5;34m5,184\u001b[0m │ concatenate_3[\u001b[38;5;34m0\u001b[0m]… │\n",
              "├─────────────────────┼───────────────────┼────────────┼───────────────────┤\n",
              "│ dropout_15          │ (\u001b[38;5;45mNone\u001b[0m, \u001b[38;5;34m64\u001b[0m)        │          \u001b[38;5;34m0\u001b[0m │ dense_14[\u001b[38;5;34m0\u001b[0m][\u001b[38;5;34m0\u001b[0m]    │\n",
              "│ (\u001b[38;5;33mDropout\u001b[0m)           │                   │            │                   │\n",
              "├─────────────────────┼───────────────────┼────────────┼───────────────────┤\n",
              "│ dense_15 (\u001b[38;5;33mDense\u001b[0m)    │ (\u001b[38;5;45mNone\u001b[0m, \u001b[38;5;34m32\u001b[0m)        │      \u001b[38;5;34m2,080\u001b[0m │ dropout_15[\u001b[38;5;34m0\u001b[0m][\u001b[38;5;34m0\u001b[0m]  │\n",
              "├─────────────────────┼───────────────────┼────────────┼───────────────────┤\n",
              "│ output (\u001b[38;5;33mDense\u001b[0m)      │ (\u001b[38;5;45mNone\u001b[0m, \u001b[38;5;34m1\u001b[0m)         │         \u001b[38;5;34m33\u001b[0m │ dense_15[\u001b[38;5;34m0\u001b[0m][\u001b[38;5;34m0\u001b[0m]    │\n",
              "└─────────────────────┴───────────────────┴────────────┴───────────────────┘\n"
            ],
            "text/html": [
              "<pre style=\"white-space:pre;overflow-x:auto;line-height:normal;font-family:Menlo,'DejaVu Sans Mono',consolas,'Courier New',monospace\">┏━━━━━━━━━━━━━━━━━━━━━┳━━━━━━━━━━━━━━━━━━━┳━━━━━━━━━━━━┳━━━━━━━━━━━━━━━━━━━┓\n",
              "┃<span style=\"font-weight: bold\"> Layer (type)        </span>┃<span style=\"font-weight: bold\"> Output Shape      </span>┃<span style=\"font-weight: bold\">    Param # </span>┃<span style=\"font-weight: bold\"> Connected to      </span>┃\n",
              "┡━━━━━━━━━━━━━━━━━━━━━╇━━━━━━━━━━━━━━━━━━━╇━━━━━━━━━━━━╇━━━━━━━━━━━━━━━━━━━┩\n",
              "│ time_series_input   │ (<span style=\"color: #00d7ff; text-decoration-color: #00d7ff\">None</span>, <span style=\"color: #00af00; text-decoration-color: #00af00\">48</span>, <span style=\"color: #00af00; text-decoration-color: #00af00\">28</span>)    │          <span style=\"color: #00af00; text-decoration-color: #00af00\">0</span> │ -                 │\n",
              "│ (<span style=\"color: #0087ff; text-decoration-color: #0087ff\">InputLayer</span>)        │                   │            │                   │\n",
              "├─────────────────────┼───────────────────┼────────────┼───────────────────┤\n",
              "│ conv1d_6 (<span style=\"color: #0087ff; text-decoration-color: #0087ff\">Conv1D</span>)   │ (<span style=\"color: #00d7ff; text-decoration-color: #00d7ff\">None</span>, <span style=\"color: #00af00; text-decoration-color: #00af00\">48</span>, <span style=\"color: #00af00; text-decoration-color: #00af00\">64</span>)    │      <span style=\"color: #00af00; text-decoration-color: #00af00\">5,440</span> │ time_series_inpu… │\n",
              "├─────────────────────┼───────────────────┼────────────┼───────────────────┤\n",
              "│ max_pooling1d_6     │ (<span style=\"color: #00d7ff; text-decoration-color: #00d7ff\">None</span>, <span style=\"color: #00af00; text-decoration-color: #00af00\">24</span>, <span style=\"color: #00af00; text-decoration-color: #00af00\">64</span>)    │          <span style=\"color: #00af00; text-decoration-color: #00af00\">0</span> │ conv1d_6[<span style=\"color: #00af00; text-decoration-color: #00af00\">0</span>][<span style=\"color: #00af00; text-decoration-color: #00af00\">0</span>]    │\n",
              "│ (<span style=\"color: #0087ff; text-decoration-color: #0087ff\">MaxPooling1D</span>)      │                   │            │                   │\n",
              "├─────────────────────┼───────────────────┼────────────┼───────────────────┤\n",
              "│ dropout_12          │ (<span style=\"color: #00d7ff; text-decoration-color: #00d7ff\">None</span>, <span style=\"color: #00af00; text-decoration-color: #00af00\">24</span>, <span style=\"color: #00af00; text-decoration-color: #00af00\">64</span>)    │          <span style=\"color: #00af00; text-decoration-color: #00af00\">0</span> │ max_pooling1d_6[<span style=\"color: #00af00; text-decoration-color: #00af00\">…</span> │\n",
              "│ (<span style=\"color: #0087ff; text-decoration-color: #0087ff\">Dropout</span>)           │                   │            │                   │\n",
              "├─────────────────────┼───────────────────┼────────────┼───────────────────┤\n",
              "│ conv1d_7 (<span style=\"color: #0087ff; text-decoration-color: #0087ff\">Conv1D</span>)   │ (<span style=\"color: #00d7ff; text-decoration-color: #00d7ff\">None</span>, <span style=\"color: #00af00; text-decoration-color: #00af00\">24</span>, <span style=\"color: #00af00; text-decoration-color: #00af00\">128</span>)   │     <span style=\"color: #00af00; text-decoration-color: #00af00\">24,704</span> │ dropout_12[<span style=\"color: #00af00; text-decoration-color: #00af00\">0</span>][<span style=\"color: #00af00; text-decoration-color: #00af00\">0</span>]  │\n",
              "├─────────────────────┼───────────────────┼────────────┼───────────────────┤\n",
              "│ max_pooling1d_7     │ (<span style=\"color: #00d7ff; text-decoration-color: #00d7ff\">None</span>, <span style=\"color: #00af00; text-decoration-color: #00af00\">24</span>, <span style=\"color: #00af00; text-decoration-color: #00af00\">128</span>)   │          <span style=\"color: #00af00; text-decoration-color: #00af00\">0</span> │ conv1d_7[<span style=\"color: #00af00; text-decoration-color: #00af00\">0</span>][<span style=\"color: #00af00; text-decoration-color: #00af00\">0</span>]    │\n",
              "│ (<span style=\"color: #0087ff; text-decoration-color: #0087ff\">MaxPooling1D</span>)      │                   │            │                   │\n",
              "├─────────────────────┼───────────────────┼────────────┼───────────────────┤\n",
              "│ dropout_13          │ (<span style=\"color: #00d7ff; text-decoration-color: #00d7ff\">None</span>, <span style=\"color: #00af00; text-decoration-color: #00af00\">24</span>, <span style=\"color: #00af00; text-decoration-color: #00af00\">128</span>)   │          <span style=\"color: #00af00; text-decoration-color: #00af00\">0</span> │ max_pooling1d_7[<span style=\"color: #00af00; text-decoration-color: #00af00\">…</span> │\n",
              "│ (<span style=\"color: #0087ff; text-decoration-color: #0087ff\">Dropout</span>)           │                   │            │                   │\n",
              "├─────────────────────┼───────────────────┼────────────┼───────────────────┤\n",
              "│ static_input        │ (<span style=\"color: #00d7ff; text-decoration-color: #00d7ff\">None</span>, <span style=\"color: #00af00; text-decoration-color: #00af00\">7</span>)         │          <span style=\"color: #00af00; text-decoration-color: #00af00\">0</span> │ -                 │\n",
              "│ (<span style=\"color: #0087ff; text-decoration-color: #0087ff\">InputLayer</span>)        │                   │            │                   │\n",
              "├─────────────────────┼───────────────────┼────────────┼───────────────────┤\n",
              "│ lstm_3 (<span style=\"color: #0087ff; text-decoration-color: #0087ff\">LSTM</span>)       │ (<span style=\"color: #00d7ff; text-decoration-color: #00d7ff\">None</span>, <span style=\"color: #00af00; text-decoration-color: #00af00\">64</span>)        │     <span style=\"color: #00af00; text-decoration-color: #00af00\">49,408</span> │ dropout_13[<span style=\"color: #00af00; text-decoration-color: #00af00\">0</span>][<span style=\"color: #00af00; text-decoration-color: #00af00\">0</span>]  │\n",
              "├─────────────────────┼───────────────────┼────────────┼───────────────────┤\n",
              "│ dense_12 (<span style=\"color: #0087ff; text-decoration-color: #0087ff\">Dense</span>)    │ (<span style=\"color: #00d7ff; text-decoration-color: #00d7ff\">None</span>, <span style=\"color: #00af00; text-decoration-color: #00af00\">32</span>)        │        <span style=\"color: #00af00; text-decoration-color: #00af00\">256</span> │ static_input[<span style=\"color: #00af00; text-decoration-color: #00af00\">0</span>][<span style=\"color: #00af00; text-decoration-color: #00af00\">…</span> │\n",
              "├─────────────────────┼───────────────────┼────────────┼───────────────────┤\n",
              "│ dropout_14          │ (<span style=\"color: #00d7ff; text-decoration-color: #00d7ff\">None</span>, <span style=\"color: #00af00; text-decoration-color: #00af00\">64</span>)        │          <span style=\"color: #00af00; text-decoration-color: #00af00\">0</span> │ lstm_3[<span style=\"color: #00af00; text-decoration-color: #00af00\">0</span>][<span style=\"color: #00af00; text-decoration-color: #00af00\">0</span>]      │\n",
              "│ (<span style=\"color: #0087ff; text-decoration-color: #0087ff\">Dropout</span>)           │                   │            │                   │\n",
              "├─────────────────────┼───────────────────┼────────────┼───────────────────┤\n",
              "│ dense_13 (<span style=\"color: #0087ff; text-decoration-color: #0087ff\">Dense</span>)    │ (<span style=\"color: #00d7ff; text-decoration-color: #00d7ff\">None</span>, <span style=\"color: #00af00; text-decoration-color: #00af00\">16</span>)        │        <span style=\"color: #00af00; text-decoration-color: #00af00\">528</span> │ dense_12[<span style=\"color: #00af00; text-decoration-color: #00af00\">0</span>][<span style=\"color: #00af00; text-decoration-color: #00af00\">0</span>]    │\n",
              "├─────────────────────┼───────────────────┼────────────┼───────────────────┤\n",
              "│ concatenate_3       │ (<span style=\"color: #00d7ff; text-decoration-color: #00d7ff\">None</span>, <span style=\"color: #00af00; text-decoration-color: #00af00\">80</span>)        │          <span style=\"color: #00af00; text-decoration-color: #00af00\">0</span> │ dropout_14[<span style=\"color: #00af00; text-decoration-color: #00af00\">0</span>][<span style=\"color: #00af00; text-decoration-color: #00af00\">0</span>], │\n",
              "│ (<span style=\"color: #0087ff; text-decoration-color: #0087ff\">Concatenate</span>)       │                   │            │ dense_13[<span style=\"color: #00af00; text-decoration-color: #00af00\">0</span>][<span style=\"color: #00af00; text-decoration-color: #00af00\">0</span>]    │\n",
              "├─────────────────────┼───────────────────┼────────────┼───────────────────┤\n",
              "│ dense_14 (<span style=\"color: #0087ff; text-decoration-color: #0087ff\">Dense</span>)    │ (<span style=\"color: #00d7ff; text-decoration-color: #00d7ff\">None</span>, <span style=\"color: #00af00; text-decoration-color: #00af00\">64</span>)        │      <span style=\"color: #00af00; text-decoration-color: #00af00\">5,184</span> │ concatenate_3[<span style=\"color: #00af00; text-decoration-color: #00af00\">0</span>]… │\n",
              "├─────────────────────┼───────────────────┼────────────┼───────────────────┤\n",
              "│ dropout_15          │ (<span style=\"color: #00d7ff; text-decoration-color: #00d7ff\">None</span>, <span style=\"color: #00af00; text-decoration-color: #00af00\">64</span>)        │          <span style=\"color: #00af00; text-decoration-color: #00af00\">0</span> │ dense_14[<span style=\"color: #00af00; text-decoration-color: #00af00\">0</span>][<span style=\"color: #00af00; text-decoration-color: #00af00\">0</span>]    │\n",
              "│ (<span style=\"color: #0087ff; text-decoration-color: #0087ff\">Dropout</span>)           │                   │            │                   │\n",
              "├─────────────────────┼───────────────────┼────────────┼───────────────────┤\n",
              "│ dense_15 (<span style=\"color: #0087ff; text-decoration-color: #0087ff\">Dense</span>)    │ (<span style=\"color: #00d7ff; text-decoration-color: #00d7ff\">None</span>, <span style=\"color: #00af00; text-decoration-color: #00af00\">32</span>)        │      <span style=\"color: #00af00; text-decoration-color: #00af00\">2,080</span> │ dropout_15[<span style=\"color: #00af00; text-decoration-color: #00af00\">0</span>][<span style=\"color: #00af00; text-decoration-color: #00af00\">0</span>]  │\n",
              "├─────────────────────┼───────────────────┼────────────┼───────────────────┤\n",
              "│ output (<span style=\"color: #0087ff; text-decoration-color: #0087ff\">Dense</span>)      │ (<span style=\"color: #00d7ff; text-decoration-color: #00d7ff\">None</span>, <span style=\"color: #00af00; text-decoration-color: #00af00\">1</span>)         │         <span style=\"color: #00af00; text-decoration-color: #00af00\">33</span> │ dense_15[<span style=\"color: #00af00; text-decoration-color: #00af00\">0</span>][<span style=\"color: #00af00; text-decoration-color: #00af00\">0</span>]    │\n",
              "└─────────────────────┴───────────────────┴────────────┴───────────────────┘\n",
              "</pre>\n"
            ]
          },
          "metadata": {}
        },
        {
          "output_type": "display_data",
          "data": {
            "text/plain": [
              "\u001b[1m Total params: \u001b[0m\u001b[38;5;34m87,633\u001b[0m (342.32 KB)\n"
            ],
            "text/html": [
              "<pre style=\"white-space:pre;overflow-x:auto;line-height:normal;font-family:Menlo,'DejaVu Sans Mono',consolas,'Courier New',monospace\"><span style=\"font-weight: bold\"> Total params: </span><span style=\"color: #00af00; text-decoration-color: #00af00\">87,633</span> (342.32 KB)\n",
              "</pre>\n"
            ]
          },
          "metadata": {}
        },
        {
          "output_type": "display_data",
          "data": {
            "text/plain": [
              "\u001b[1m Trainable params: \u001b[0m\u001b[38;5;34m87,633\u001b[0m (342.32 KB)\n"
            ],
            "text/html": [
              "<pre style=\"white-space:pre;overflow-x:auto;line-height:normal;font-family:Menlo,'DejaVu Sans Mono',consolas,'Courier New',monospace\"><span style=\"font-weight: bold\"> Trainable params: </span><span style=\"color: #00af00; text-decoration-color: #00af00\">87,633</span> (342.32 KB)\n",
              "</pre>\n"
            ]
          },
          "metadata": {}
        },
        {
          "output_type": "display_data",
          "data": {
            "text/plain": [
              "\u001b[1m Non-trainable params: \u001b[0m\u001b[38;5;34m0\u001b[0m (0.00 B)\n"
            ],
            "text/html": [
              "<pre style=\"white-space:pre;overflow-x:auto;line-height:normal;font-family:Menlo,'DejaVu Sans Mono',consolas,'Courier New',monospace\"><span style=\"font-weight: bold\"> Non-trainable params: </span><span style=\"color: #00af00; text-decoration-color: #00af00\">0</span> (0.00 B)\n",
              "</pre>\n"
            ]
          },
          "metadata": {}
        }
      ],
      "source": [
        "time_series_input_shape = (X_train_final.shape[1], X_train_final.shape[2])\n",
        "static_input_shape = (static_train_final.shape[1],)\n",
        "\n",
        "# Time-series branch\n",
        "time_series_input = Input(shape=time_series_input_shape, name='time_series_input')\n",
        "\n",
        "x = Conv1D(64, 3, activation='relu', padding='same', kernel_regularizer=l2(1e-4))(time_series_input)\n",
        "x = MaxPooling1D(pool_size=2)(x)\n",
        "x = Dropout(0.3)(x)\n",
        "\n",
        "x = Conv1D(128, 3, activation='relu', padding='same', kernel_regularizer=l2(1e-4))(x)\n",
        "# Reduce pooling impact for short sequences\n",
        "x = MaxPooling1D(pool_size=1)(x)\n",
        "x = Dropout(0.3)(x)\n",
        "\n",
        "x = LSTM(64, return_sequences=False, kernel_regularizer=l2(1e-4))(x)\n",
        "x = Dropout(0.3)(x)\n",
        "\n",
        "# Static branch\n",
        "static_input = Input(shape=static_input_shape, name='static_input')\n",
        "y = Dense(32, activation='relu')(static_input)\n",
        "y = Dense(16, activation='relu')(y)\n",
        "\n",
        "# Merge branches\n",
        "combined = Concatenate()([x, y])\n",
        "\n",
        "z = Dense(64, activation='relu')(combined)\n",
        "z = Dropout(0.3)(z)\n",
        "z = Dense(32, activation='relu')(z)\n",
        "\n",
        "output = Dense(1, activation='sigmoid', name='output')(z)\n",
        "\n",
        "model = Model(inputs=[time_series_input, static_input], outputs=output)\n",
        "model.compile(optimizer='adam', loss='binary_crossentropy', metrics=['AUC', 'Precision', 'Recall'])\n",
        "model.summary()\n"
      ]
    },
    {
      "cell_type": "markdown",
      "id": "b44e8f67",
      "metadata": {
        "id": "b44e8f67"
      },
      "source": [
        "## 4. Model Compilation\n",
        "\n",
        "Configure the model for training by specifying the optimizer, loss function, and evaluation metrics. This step prepares the model for the training process.\n",
        "\n",
        "**Configuration Details:**\n",
        "- **Optimizer:** Adam with learning rate of 1e-3 for stable convergence\n",
        "- **Loss Function:** Binary crossentropy for binary classification\n",
        "- **Metrics:** Comprehensive evaluation including accuracy, AUC, precision, and recall\n",
        "- **Monitoring:** Multiple metrics enable comprehensive performance assessment"
      ]
    },
    {
      "cell_type": "code",
      "execution_count": 43,
      "id": "739629e5",
      "metadata": {
        "colab": {
          "base_uri": "https://localhost:8080/"
        },
        "id": "739629e5",
        "outputId": "ba9a4551-9cb9-46dd-af1e-15cb9bc12699"
      },
      "outputs": [
        {
          "output_type": "stream",
          "name": "stdout",
          "text": [
            "Model compiled successfully.\n"
          ]
        }
      ],
      "source": [
        "# Compile the model\n",
        "model.compile(\n",
        "    optimizer=tf.keras.optimizers.Adam(learning_rate=1e-3),\n",
        "    loss='binary_crossentropy',\n",
        "    metrics=[\n",
        "        'accuracy',\n",
        "        tf.keras.metrics.AUC(name='AUC'),\n",
        "        tf.keras.metrics.Precision(name='Precision'),\n",
        "        tf.keras.metrics.Recall(name='Recall')\n",
        "    ]\n",
        ")\n",
        "\n",
        "print(\"Model compiled successfully.\")\n"
      ]
    },
    {
      "cell_type": "markdown",
      "id": "18c3e839",
      "metadata": {
        "id": "18c3e839"
      },
      "source": [
        "## 5. Model Training\n",
        "\n",
        "Train the CNN-LSTM model using best practices to ensure robust performance and prevent overfitting. The training process includes comprehensive monitoring and automatic model saving.\n",
        "\n",
        "**Training Strategy:**\n",
        "- **Early Stopping:** Monitors validation loss with patience of 10 epochs to prevent overfitting\n",
        "- **Model Checkpointing:** Saves the best model based on validation loss for optimal performance\n",
        "- **Batch Size:** 32 samples per batch for efficient memory usage and stable gradients\n",
        "- **Epochs:** Maximum 100 epochs with early termination based on validation performance\n",
        "\n",
        "**Callbacks:**\n",
        "- **EarlyStopping:** Automatically stops training when validation loss stops improving\n",
        "- **ModelCheckpoint:** Saves the best model weights during training for later use\n",
        "\n",
        "**Monitoring:**\n",
        "- Training and validation metrics tracked throughout the training process\n",
        "- Best model state preserved for final evaluation and deployment"
      ]
    },
    {
      "cell_type": "code",
      "execution_count": 44,
      "id": "2f956eac",
      "metadata": {
        "colab": {
          "base_uri": "https://localhost:8080/"
        },
        "id": "2f956eac",
        "outputId": "f87091e4-d4ae-4471-b979-15e97ef3891b"
      },
      "outputs": [
        {
          "output_type": "stream",
          "name": "stdout",
          "text": [
            "Epoch 1/100\n",
            "\u001b[1m134/138\u001b[0m \u001b[32m━━━━━━━━━━━━━━━━━━━\u001b[0m\u001b[37m━\u001b[0m \u001b[1m0s\u001b[0m 15ms/step - AUC: 0.7089 - Precision: 0.6507 - Recall: 0.6856 - accuracy: 0.6565 - loss: 0.6430\n",
            "Epoch 1: val_loss improved from inf to 0.56241, saving model to ../models/cnn_lstm_best_model.keras\n",
            "\u001b[1m138/138\u001b[0m \u001b[32m━━━━━━━━━━━━━━━━━━━━\u001b[0m\u001b[37m\u001b[0m \u001b[1m6s\u001b[0m 21ms/step - AUC: 0.7118 - Precision: 0.6526 - Recall: 0.6878 - accuracy: 0.6587 - loss: 0.6408 - val_AUC: 0.7742 - val_Precision: 0.2922 - val_Recall: 0.7191 - val_accuracy: 0.7188 - val_loss: 0.5624\n",
            "Epoch 2/100\n",
            "\u001b[1m135/138\u001b[0m \u001b[32m━━━━━━━━━━━━━━━━━━━\u001b[0m\u001b[37m━\u001b[0m \u001b[1m0s\u001b[0m 10ms/step - AUC: 0.8433 - Precision: 0.7494 - Recall: 0.8425 - accuracy: 0.7800 - loss: 0.5091\n",
            "Epoch 2: val_loss did not improve from 0.56241\n",
            "\u001b[1m138/138\u001b[0m \u001b[32m━━━━━━━━━━━━━━━━━━━━\u001b[0m\u001b[37m\u001b[0m \u001b[1m1s\u001b[0m 11ms/step - AUC: 0.8438 - Precision: 0.7498 - Recall: 0.8426 - accuracy: 0.7803 - loss: 0.5084 - val_AUC: 0.7727 - val_Precision: 0.2933 - val_Recall: 0.6854 - val_accuracy: 0.7266 - val_loss: 0.5689\n",
            "Epoch 3/100\n",
            "\u001b[1m137/138\u001b[0m \u001b[32m━━━━━━━━━━━━━━━━━━━\u001b[0m\u001b[37m━\u001b[0m \u001b[1m0s\u001b[0m 10ms/step - AUC: 0.8752 - Precision: 0.7753 - Recall: 0.8662 - accuracy: 0.8072 - loss: 0.4579\n",
            "Epoch 3: val_loss improved from 0.56241 to 0.55320, saving model to ../models/cnn_lstm_best_model.keras\n",
            "\u001b[1m138/138\u001b[0m \u001b[32m━━━━━━━━━━━━━━━━━━━━\u001b[0m\u001b[37m\u001b[0m \u001b[1m3s\u001b[0m 12ms/step - AUC: 0.8753 - Precision: 0.7754 - Recall: 0.8662 - accuracy: 0.8073 - loss: 0.4578 - val_AUC: 0.7720 - val_Precision: 0.2824 - val_Recall: 0.6854 - val_accuracy: 0.7141 - val_loss: 0.5532\n",
            "Epoch 4/100\n",
            "\u001b[1m134/138\u001b[0m \u001b[32m━━━━━━━━━━━━━━━━━━━\u001b[0m\u001b[37m━\u001b[0m \u001b[1m0s\u001b[0m 10ms/step - AUC: 0.8922 - Precision: 0.7920 - Recall: 0.8940 - accuracy: 0.8292 - loss: 0.4252\n",
            "Epoch 4: val_loss did not improve from 0.55320\n",
            "\u001b[1m138/138\u001b[0m \u001b[32m━━━━━━━━━━━━━━━━━━━━\u001b[0m\u001b[37m\u001b[0m \u001b[1m2s\u001b[0m 11ms/step - AUC: 0.8926 - Precision: 0.7923 - Recall: 0.8939 - accuracy: 0.8294 - loss: 0.4246 - val_AUC: 0.7726 - val_Precision: 0.3141 - val_Recall: 0.6742 - val_accuracy: 0.7500 - val_loss: 0.5769\n",
            "Epoch 5/100\n",
            "\u001b[1m138/138\u001b[0m \u001b[32m━━━━━━━━━━━━━━━━━━━━\u001b[0m\u001b[37m\u001b[0m \u001b[1m0s\u001b[0m 10ms/step - AUC: 0.9132 - Precision: 0.8212 - Recall: 0.8916 - accuracy: 0.8485 - loss: 0.3874\n",
            "Epoch 5: val_loss did not improve from 0.55320\n",
            "\u001b[1m138/138\u001b[0m \u001b[32m━━━━━━━━━━━━━━━━━━━━\u001b[0m\u001b[37m\u001b[0m \u001b[1m2s\u001b[0m 11ms/step - AUC: 0.9132 - Precision: 0.8212 - Recall: 0.8916 - accuracy: 0.8485 - loss: 0.3873 - val_AUC: 0.7694 - val_Precision: 0.2974 - val_Recall: 0.6517 - val_accuracy: 0.7375 - val_loss: 0.5617\n",
            "Epoch 6/100\n",
            "\u001b[1m138/138\u001b[0m \u001b[32m━━━━━━━━━━━━━━━━━━━━\u001b[0m\u001b[37m\u001b[0m \u001b[1m0s\u001b[0m 12ms/step - AUC: 0.9240 - Precision: 0.8405 - Recall: 0.8908 - accuracy: 0.8606 - loss: 0.3687\n",
            "Epoch 6: val_loss did not improve from 0.55320\n",
            "\u001b[1m138/138\u001b[0m \u001b[32m━━━━━━━━━━━━━━━━━━━━\u001b[0m\u001b[37m\u001b[0m \u001b[1m3s\u001b[0m 14ms/step - AUC: 0.9241 - Precision: 0.8406 - Recall: 0.8909 - accuracy: 0.8607 - loss: 0.3686 - val_AUC: 0.7642 - val_Precision: 0.3333 - val_Recall: 0.5506 - val_accuracy: 0.7844 - val_loss: 0.5697\n",
            "Epoch 7/100\n",
            "\u001b[1m134/138\u001b[0m \u001b[32m━━━━━━━━━━━━━━━━━━━\u001b[0m\u001b[37m━\u001b[0m \u001b[1m0s\u001b[0m 12ms/step - AUC: 0.9287 - Precision: 0.8381 - Recall: 0.9097 - accuracy: 0.8666 - loss: 0.3568\n",
            "Epoch 7: val_loss did not improve from 0.55320\n",
            "\u001b[1m138/138\u001b[0m \u001b[32m━━━━━━━━━━━━━━━━━━━━\u001b[0m\u001b[37m\u001b[0m \u001b[1m2s\u001b[0m 13ms/step - AUC: 0.9291 - Precision: 0.8385 - Recall: 0.9097 - accuracy: 0.8669 - loss: 0.3559 - val_AUC: 0.7656 - val_Precision: 0.3226 - val_Recall: 0.5618 - val_accuracy: 0.7750 - val_loss: 0.6100\n",
            "Epoch 8/100\n",
            "\u001b[1m135/138\u001b[0m \u001b[32m━━━━━━━━━━━━━━━━━━━\u001b[0m\u001b[37m━\u001b[0m \u001b[1m0s\u001b[0m 10ms/step - AUC: 0.9396 - Precision: 0.8639 - Recall: 0.9030 - accuracy: 0.8801 - loss: 0.3321\n",
            "Epoch 8: val_loss did not improve from 0.55320\n",
            "\u001b[1m138/138\u001b[0m \u001b[32m━━━━━━━━━━━━━━━━━━━━\u001b[0m\u001b[37m\u001b[0m \u001b[1m2s\u001b[0m 11ms/step - AUC: 0.9399 - Precision: 0.8641 - Recall: 0.9031 - accuracy: 0.8802 - loss: 0.3315 - val_AUC: 0.7705 - val_Precision: 0.3077 - val_Recall: 0.6292 - val_accuracy: 0.7516 - val_loss: 0.5761\n",
            "Epoch 9/100\n",
            "\u001b[1m134/138\u001b[0m \u001b[32m━━━━━━━━━━━━━━━━━━━\u001b[0m\u001b[37m━\u001b[0m \u001b[1m0s\u001b[0m 10ms/step - AUC: 0.9541 - Precision: 0.8740 - Recall: 0.9308 - accuracy: 0.8980 - loss: 0.2853\n",
            "Epoch 9: val_loss did not improve from 0.55320\n",
            "\u001b[1m138/138\u001b[0m \u001b[32m━━━━━━━━━━━━━━━━━━━━\u001b[0m\u001b[37m\u001b[0m \u001b[1m2s\u001b[0m 11ms/step - AUC: 0.9544 - Precision: 0.8744 - Recall: 0.9307 - accuracy: 0.8981 - loss: 0.2847 - val_AUC: 0.7448 - val_Precision: 0.3333 - val_Recall: 0.4831 - val_accuracy: 0.7937 - val_loss: 0.5927\n",
            "Epoch 10/100\n",
            "\u001b[1m134/138\u001b[0m \u001b[32m━━━━━━━━━━━━━━━━━━━\u001b[0m\u001b[37m━\u001b[0m \u001b[1m0s\u001b[0m 10ms/step - AUC: 0.9609 - Precision: 0.8771 - Recall: 0.9314 - accuracy: 0.9004 - loss: 0.2702\n",
            "Epoch 10: val_loss did not improve from 0.55320\n",
            "\u001b[1m138/138\u001b[0m \u001b[32m━━━━━━━━━━━━━━━━━━━━\u001b[0m\u001b[37m\u001b[0m \u001b[1m2s\u001b[0m 11ms/step - AUC: 0.9610 - Precision: 0.8773 - Recall: 0.9311 - accuracy: 0.9003 - loss: 0.2700 - val_AUC: 0.7417 - val_Precision: 0.3038 - val_Recall: 0.5393 - val_accuracy: 0.7641 - val_loss: 0.6862\n",
            "Epoch 11/100\n",
            "\u001b[1m134/138\u001b[0m \u001b[32m━━━━━━━━━━━━━━━━━━━\u001b[0m\u001b[37m━\u001b[0m \u001b[1m0s\u001b[0m 10ms/step - AUC: 0.9634 - Precision: 0.8929 - Recall: 0.9267 - accuracy: 0.9077 - loss: 0.2636\n",
            "Epoch 11: val_loss did not improve from 0.55320\n",
            "\u001b[1m138/138\u001b[0m \u001b[32m━━━━━━━━━━━━━━━━━━━━\u001b[0m\u001b[37m\u001b[0m \u001b[1m3s\u001b[0m 11ms/step - AUC: 0.9636 - Precision: 0.8930 - Recall: 0.9268 - accuracy: 0.9078 - loss: 0.2631 - val_AUC: 0.7408 - val_Precision: 0.2903 - val_Recall: 0.5056 - val_accuracy: 0.7594 - val_loss: 0.6456\n",
            "Epoch 12/100\n",
            "\u001b[1m136/138\u001b[0m \u001b[32m━━━━━━━━━━━━━━━━━━━\u001b[0m\u001b[37m━\u001b[0m \u001b[1m0s\u001b[0m 10ms/step - AUC: 0.9709 - Precision: 0.8998 - Recall: 0.9475 - accuracy: 0.9207 - loss: 0.2349\n",
            "Epoch 12: val_loss did not improve from 0.55320\n",
            "\u001b[1m138/138\u001b[0m \u001b[32m━━━━━━━━━━━━━━━━━━━━\u001b[0m\u001b[37m\u001b[0m \u001b[1m2s\u001b[0m 11ms/step - AUC: 0.9710 - Precision: 0.8999 - Recall: 0.9474 - accuracy: 0.9207 - loss: 0.2347 - val_AUC: 0.7596 - val_Precision: 0.3051 - val_Recall: 0.6067 - val_accuracy: 0.7531 - val_loss: 0.6475\n",
            "Epoch 13/100\n",
            "\u001b[1m136/138\u001b[0m \u001b[32m━━━━━━━━━━━━━━━━━━━\u001b[0m\u001b[37m━\u001b[0m \u001b[1m0s\u001b[0m 14ms/step - AUC: 0.9740 - Precision: 0.9083 - Recall: 0.9417 - accuracy: 0.9231 - loss: 0.2251\n",
            "Epoch 13: val_loss did not improve from 0.55320\n",
            "\u001b[1m138/138\u001b[0m \u001b[32m━━━━━━━━━━━━━━━━━━━━\u001b[0m\u001b[37m\u001b[0m \u001b[1m2s\u001b[0m 17ms/step - AUC: 0.9741 - Precision: 0.9085 - Recall: 0.9418 - accuracy: 0.9232 - loss: 0.2248 - val_AUC: 0.7437 - val_Precision: 0.3116 - val_Recall: 0.4831 - val_accuracy: 0.7797 - val_loss: 0.6384\n",
            "Model training finished.\n"
          ]
        }
      ],
      "source": [
        "\n",
        "\n",
        "# EarlyStopping callback\n",
        "early_stopping = EarlyStopping(\n",
        "    monitor='val_loss',\n",
        "    patience=10,\n",
        "    restore_best_weights=True\n",
        ")\n",
        "\n",
        "# Directory for saving models\n",
        "model_save_dir = '../models/'\n",
        "if not os.path.exists(model_save_dir):\n",
        "    os.makedirs(model_save_dir)\n",
        "    print(f\"Created model save directory: {model_save_dir}\")\n",
        "\n",
        "# ModelCheckpoint callback\n",
        "model_checkpoint = ModelCheckpoint(\n",
        "    filepath=os.path.join(model_save_dir, 'cnn_lstm_best_model.keras'),\n",
        "    monitor='val_loss',\n",
        "    save_best_only=True,\n",
        "    save_weights_only=False,  # Save the entire model\n",
        "    mode='min',               # Lower val_loss is better\n",
        "    verbose=1\n",
        ")\n",
        "\n",
        "# Train the model with 1-hour sequence data\n",
        "history = model.fit(\n",
        "    x=[X_train_final, static_train_final],\n",
        "    y=y_train_final,\n",
        "    epochs=100,  # EarlyStopping will stop before this if no improvement\n",
        "    batch_size=32,\n",
        "    validation_data=([X_val_final, static_val_final], y_val_final),\n",
        "    callbacks=[early_stopping, model_checkpoint],\n",
        "    verbose=1\n",
        ")\n",
        "\n",
        "print(\"Model training finished.\")\n"
      ]
    },
    {
      "cell_type": "markdown",
      "id": "5c896457",
      "metadata": {
        "id": "5c896457"
      },
      "source": [
        "## 6. Model Evaluation\n",
        "\n",
        "Load the best trained model and evaluate its performance on the test dataset. This comprehensive evaluation provides insights into model accuracy and generalization capabilities.\n",
        "\n",
        "**Evaluation Process:**\n",
        "- **Best Model Loading:** Load the optimal model weights saved during training\n",
        "- **Test Data Prediction:** Generate predictions on unseen test data\n",
        "- **Performance Metrics:** Calculate accuracy, precision, recall, and F1-score\n",
        "- **Prediction Analysis:** Examine prediction probabilities and thresholds\n",
        "\n",
        "**Key Metrics:**\n",
        "- **Test Accuracy:** Overall classification accuracy on test set\n",
        "- **Binary Classification:** Mortality prediction performance (0: Survived, 1: Died)\n",
        "- **Probability Thresholds:** Analysis of prediction confidence levels\n",
        "- **Model Confidence:** Distribution of prediction probabilities\n",
        "\n",
        "This evaluation ensures the model performs well on new, unseen ICU patient data and provides reliable mortality predictions for clinical decision support."
      ]
    },
    {
      "cell_type": "code",
      "execution_count": 45,
      "id": "d01186a1",
      "metadata": {
        "colab": {
          "base_uri": "https://localhost:8080/"
        },
        "id": "d01186a1",
        "outputId": "181a022b-4ced-4856-d490-d9d5c6dbeb67"
      },
      "outputs": [
        {
          "output_type": "stream",
          "name": "stdout",
          "text": [
            "Test Loss: 0.4901\n",
            "Test Accuracy: 0.7462\n",
            "Test AUC: 0.8564\n",
            "Test Precision: 0.3357\n",
            "Test Recall: 0.8468\n"
          ]
        }
      ],
      "source": [
        "# Evaluate the model on the 1-hour sequence test set\n",
        "loss, accuracy, auc, precision, recall = model.evaluate(\n",
        "    x=[X_test_final, static_test_final],\n",
        "    y=y_test_final,\n",
        "    verbose=0\n",
        ")\n",
        "\n",
        "print(f\"Test Loss: {loss:.4f}\")\n",
        "print(f\"Test Accuracy: {accuracy:.4f}\")\n",
        "print(f\"Test AUC: {auc:.4f}\")\n",
        "print(f\"Test Precision: {precision:.4f}\")\n",
        "print(f\"Test Recall: {recall:.4f}\")\n"
      ]
    },
    {
      "cell_type": "markdown",
      "id": "7bf0f91b",
      "metadata": {
        "id": "7bf0f91b"
      },
      "source": [
        "## 7. Training History Visualization\n",
        "\n",
        "Visualize the training progress to understand model learning patterns and identify potential overfitting or underfitting issues.\n",
        "\n",
        "**Training Metrics Plots:**\n",
        "- **Loss Curves:** Training and validation loss progression over epochs\n",
        "- **Accuracy Curves:** Training and validation accuracy improvement trends\n",
        "- **Performance Analysis:** Comparison between training and validation metrics\n",
        "\n",
        "**Key Insights:**\n",
        "- **Convergence:** How quickly the model learns the patterns\n",
        "- **Overfitting Detection:** Gap between training and validation performance\n",
        "- **Optimal Epochs:** Best training duration based on validation metrics\n",
        "- **Learning Stability:** Smoothness of learning curves and metric consistency\n",
        "\n",
        "These visualizations help validate the training process and ensure the model has learned effectively without overfitting to the training data."
      ]
    },
    {
      "cell_type": "code",
      "execution_count": 46,
      "id": "615c3677",
      "metadata": {
        "colab": {
          "base_uri": "https://localhost:8080/",
          "height": 507
        },
        "id": "615c3677",
        "outputId": "12fcf006-0598-4bf9-e982-e65034cf78fb"
      },
      "outputs": [
        {
          "output_type": "display_data",
          "data": {
            "text/plain": [
              "<Figure size 1400x500 with 2 Axes>"
            ],
            "image/png": "[encoded data removed]"
          },
          "metadata": {}
        }
      ],
      "source": [
        "# Plot loss and accuracy\n",
        "plt.figure(figsize=(14, 5))\n",
        "plt.subplot(1, 2, 1)\n",
        "plt.plot(history.history['loss'], label='Train Loss')\n",
        "plt.plot(history.history['val_loss'], label='Validation Loss')\n",
        "plt.title('Loss')\n",
        "plt.xlabel('Epochs')\n",
        "plt.ylabel('Loss')\n",
        "plt.legend()\n",
        "plt.subplot(1, 2, 2)\n",
        "plt.plot(history.history['accuracy'], label='Train Accuracy')\n",
        "plt.plot(history.history['val_accuracy'], label='Validation Accuracy')\n",
        "plt.title('Accuracy')\n",
        "plt.xlabel('Epochs')\n",
        "plt.ylabel('Accuracy')\n",
        "plt.legend()\n",
        "plt.tight_layout()\n",
        "plt.show()\n"
      ]
    },
    {
      "cell_type": "markdown",
      "id": "9d333eb7",
      "metadata": {
        "id": "9d333eb7"
      },
      "source": [
        "# 8.Model Classification report"
      ]
    },
    {
      "cell_type": "code",
      "execution_count": 47,
      "id": "4c70ad11",
      "metadata": {
        "colab": {
          "base_uri": "https://localhost:8080/",
          "height": 772
        },
        "id": "4c70ad11",
        "outputId": "87f183f7-c6a8-4ec3-bd0b-c5636b502275"
      },
      "outputs": [
        {
          "output_type": "stream",
          "name": "stdout",
          "text": [
            "Classification Report:\n",
            "              precision    recall  f1-score   support\n",
            "\n",
            "No Mortality       0.97      0.73      0.83       689\n",
            "   Mortality       0.34      0.85      0.48       111\n",
            "\n",
            "    accuracy                           0.75       800\n",
            "   macro avg       0.65      0.79      0.66       800\n",
            "weighted avg       0.88      0.75      0.78       800\n",
            "\n",
            "\n",
            "Confusion Matrix:\n"
          ]
        },
        {
          "output_type": "display_data",
          "data": {
            "text/plain": [
              "<Figure size 800x600 with 1 Axes>"
            ],
            "image/png": "[encoded data removed]"
          },
          "metadata": {}
        }
      ],
      "source": [
        "y_pred_prob = model.predict(x=[X_test_final, static_test_final], verbose=0)\n",
        "\n",
        "y_pred_binary = (y_pred_prob > 0.5).astype(int)\n",
        "\n",
        "# --- Classification Report ---\n",
        "print(\"Classification Report:\")\n",
        "print(classification_report(y_test_final, y_pred_binary, target_names=['No Mortality', 'Mortality']))\n",
        "\n",
        "# --- Confusion Matrix ---\n",
        "cm = confusion_matrix(y_test_final, y_pred_binary)\n",
        "print(\"\\nConfusion Matrix:\")\n",
        "plt.figure(figsize=(8, 6))\n",
        "sns.heatmap(cm, annot=True, fmt='d', cmap='Blues', cbar=False,\n",
        "            xticklabels=['Predicted 0', 'Predicted 1'],\n",
        "            yticklabels=['Actual 0', 'Actual 1'])\n",
        "plt.xlabel('Predicted Label')\n",
        "plt.ylabel('True Label')\n",
        "plt.title('Confusion Matrix')\n",
        "plt.show()\n",
        "\n",
        "\n",
        "# --- ROC AUC Curve ---\n",
        "fpr, tpr, thresholds = roc_curve(y_test_final, y_pred_prob)\n",
        "\n",
        "\n"
      ]
    },
    {
      "cell_type": "code",
      "execution_count": 48,
      "id": "7bb1aeec",
      "metadata": {
        "colab": {
          "base_uri": "https://localhost:8080/"
        },
        "id": "7bb1aeec",
        "outputId": "33384efd-8106-4854-f898-8b1f7d9c798d"
      },
      "outputs": [
        {
          "output_type": "stream",
          "name": "stdout",
          "text": [
            "Model and training history saved to ../models/\n"
          ]
        }
      ],
      "source": [
        "# Save model and training history\n",
        "model.save(os.path.join(model_save_dir, '../models/cnn_lstm_best_model.keras'))\n",
        "with open(os.path.join(model_save_dir, 'cnn_lstm_training_history.pkl'), 'wb') as f:\n",
        "    pickle.dump(history.history, f)\n",
        "print(\"Model and training history saved to\", model_save_dir)\n"
      ]
    }
  ],
  "metadata": {
    "kernelspec": {
      "display_name": "Python 3",
      "name": "python3"
    },
    "language_info": {
      "codemirror_mode": {
        "name": "ipython",
        "version": 3
      },
      "file_extension": ".py",
      "mimetype": "text/x-python",
      "name": "python",
      "nbconvert_exporter": "python",
      "pygments_lexer": "ipython3",
      "version": "3.11.7"
    },
    "colab": {
      "provenance": [],
      "gpuType": "T4",
      "include_colab_link": true
    },
    "accelerator": "GPU"
  },
  "nbformat": 4,
  "nbformat_minor": 5
}