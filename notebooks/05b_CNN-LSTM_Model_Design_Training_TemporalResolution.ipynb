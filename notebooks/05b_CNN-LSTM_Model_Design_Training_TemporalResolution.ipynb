{
 "cells": [
  {
   "cell_type": "markdown",
   "id": "48d0034d",
   "metadata": {},
   "source": [
    "# 05b: CNN-LSTM Model Design & Training (Temporal Resolution Experiments)\n",
    "\n",
    "This notebook implements CNN-LSTM model design and training for systematic experiments comparing different temporal resolutions (6, 12, 24, and 36 hours) to identify the earliest point at which accurate mortality predictions can be made.\n",
    "\n",
    "**Goals:**\n",
    "- Load processed data for each temporal resolution\n",
    "- Build and train CNN-LSTM models for each resolution\n",
    "- Compare model performance across resolutions\n",
    "- Visualize and interpret results"
   ]
  },
  {
   "cell_type": "markdown",
   "id": "b1013fe0",
   "metadata": {},
   "source": [
    "## Workflow Overview\n",
    "\n",
    "1. Imports and Configuration\n",
    "2. Model Architecture Definition\n",
    "3. Training Loop for Each Temporal Resolution\n",
    "4. Performance Evaluation\n",
    "5. Visualization and Interpretation"
   ]
  },
  {
   "cell_type": "code",
   "execution_count": 2,
   "id": "86875ca8",
   "metadata": {},
   "outputs": [],
   "source": [
    "# Imports and Configuration\n",
    "import numpy as np\n",
    "import tensorflow as tf\n",
    "from tensorflow.keras.layers import Input, Conv1D, LSTM, Dense, Dropout, Concatenate\n",
    "from tensorflow.keras.models import Model\n",
    "from tensorflow.keras.optimizers import Adam\n",
    "from sklearn.metrics import roc_auc_score, average_precision_score\n",
    "import matplotlib.pyplot as plt\n",
    "import os\n",
    "np.random.seed(42)\n",
    "tf.random.set_seed(42)"
   ]
  },
  {
   "cell_type": "code",
   "execution_count": 10,
   "id": "d3e5a5ea",
   "metadata": {},
   "outputs": [],
   "source": [
    "# Ensure key variables are defined for all cells\n",
    "# If re-running visualization/comparison, reload results from previous training cell if needed\n",
    "\n",
    "temporal_resolutions = [6, 12, 24, 36]\n",
    "try:\n",
    "    results\n",
    "except NameError:\n",
    "    results = {}"
   ]
  },
  {
   "cell_type": "markdown",
   "id": "e4146ec6",
   "metadata": {},
   "source": [
    "## 1. Model Architecture Definition\n",
    "\n",
    "Define the CNN-LSTM architecture for mortality prediction."
   ]
  },
  {
   "cell_type": "code",
   "execution_count": 14,
   "id": "5ab6bfa4",
   "metadata": {},
   "outputs": [],
   "source": [
    "from tensorflow.keras.layers import MaxPooling1D\n",
    "from tensorflow.keras.regularizers import l2\n",
    "\n",
    "def build_cnn_lstm_model(seq_len, n_features, static_dim):\n",
    "    # Time-series branch\n",
    "    time_series_input = Input(shape=(seq_len, n_features), name='time_series_input')\n",
    "    x = Conv1D(64, 3, activation='relu', padding='same', kernel_regularizer=l2(1e-4))(time_series_input)\n",
    "    x = MaxPooling1D(pool_size=2)(x)\n",
    "    x = Dropout(0.3)(x)\n",
    "    x = Conv1D(128, 3, activation='relu', padding='same', kernel_regularizer=l2(1e-4))(x)\n",
    "    x = MaxPooling1D(pool_size=1)(x)\n",
    "    x = Dropout(0.3)(x)\n",
    "    x = LSTM(64, return_sequences=False, kernel_regularizer=l2(1e-4))(x)\n",
    "    x = Dropout(0.3)(x)\n",
    "\n",
    "    # Static branch\n",
    "    static_input = Input(shape=(static_dim,), name='static_input')\n",
    "    y = Dense(32, activation='relu')(static_input)\n",
    "    y = Dense(16, activation='relu')(y)\n",
    "\n",
    "    # Merge branches\n",
    "    combined = Concatenate()([x, y])\n",
    "    z = Dense(64, activation='relu')(combined)\n",
    "    z = Dropout(0.3)(z)\n",
    "    z = Dense(32, activation='relu')(z)\n",
    "    output = Dense(1, activation='sigmoid', name='output')(z)\n",
    "\n",
    "    model = Model(inputs=[time_series_input, static_input], outputs=output)\n",
    "    model.compile(optimizer='adam', loss='binary_crossentropy', metrics=['AUC', 'Precision', 'Recall'])\n",
    "    return model"
   ]
  },
  {
   "cell_type": "markdown",
   "id": "34a4ff89",
   "metadata": {},
   "source": [
    "## 2. Training Loop for Each Temporal Resolution\n",
    "\n",
    "Train and evaluate the model for each temporal resolution."
   ]
  },
  {
   "cell_type": "code",
   "execution_count": 15,
   "id": "8ef5d58b",
   "metadata": {},
   "outputs": [
    {
     "data": {
      "text/plain": [
       "1"
      ]
     },
     "execution_count": 15,
     "metadata": {},
     "output_type": "execute_result"
    }
   ],
   "source": [
    "6\n",
    "12\n",
    "24\n",
    "36\n",
    "1\n",
    "2\n",
    "1"
   ]
  },
  {
   "cell_type": "markdown",
   "id": "eab24304",
   "metadata": {},
   "source": [
    "## 3. Performance Visualization\n",
    "\n",
    "Plot validation AUC and AUPRC for each temporal resolution."
   ]
  },
  {
   "cell_type": "code",
   "execution_count": 16,
   "id": "d6095471",
   "metadata": {},
   "outputs": [
    {
     "data": {
      "image/png": "[encoded data removed]",
      "text/plain": [
       "<Figure size 800x400 with 1 Axes>"
      ]
     },
     "metadata": {},
     "output_type": "display_data"
    }
   ],
   "source": [
    "aucs = [results[h]['val_auc'] for h in temporal_resolutions if h in results]\n",
    "auprcs = [results[h]['val_auprc'] for h in temporal_resolutions if h in results]\n",
    "plt.figure(figsize=(8,4))\n",
    "plt.plot(temporal_resolutions[:len(aucs)], aucs, marker='o', label='Validation AUC')\n",
    "plt.plot(temporal_resolutions[:len(auprcs)], auprcs, marker='o', label='Validation AUPRC')\n",
    "plt.xlabel('Temporal Resolution (hours)')\n",
    "plt.ylabel('Score')\n",
    "plt.title('Model Performance vs. Temporal Resolution')\n",
    "plt.legend()\n",
    "plt.show()"
   ]
  },
  {
   "cell_type": "code",
   "execution_count": 17,
   "id": "e8a7871a",
   "metadata": {},
   "outputs": [
    {
     "name": "stdout",
     "output_type": "stream",
     "text": [
      "Model Performance Comparison by Temporal Resolution:\n"
     ]
    },
    {
     "data": {
      "text/html": [
       "<div>\n",
       "<style scoped>\n",
       "    .dataframe tbody tr th:only-of-type {\n",
       "        vertical-align: middle;\n",
       "    }\n",
       "\n",
       "    .dataframe tbody tr th {\n",
       "        vertical-align: top;\n",
       "    }\n",
       "\n",
       "    .dataframe thead th {\n",
       "        text-align: right;\n",
       "    }\n",
       "</style>\n",
       "<table border=\"1\" class=\"dataframe\">\n",
       "  <thead>\n",
       "    <tr style=\"text-align: right;\">\n",
       "      <th></th>\n",
       "    </tr>\n",
       "  </thead>\n",
       "  <tbody>\n",
       "  </tbody>\n",
       "</table>\n",
       "</div>"
      ],
      "text/plain": [
       "Empty DataFrame\n",
       "Columns: []\n",
       "Index: []"
      ]
     },
     "metadata": {},
     "output_type": "display_data"
    }
   ],
   "source": [
    "import pandas as pd\n",
    "\n",
    "# Collect results for each temporal resolution\n",
    "comparison = []\n",
    "for h in temporal_resolutions:\n",
    "    if h in results:\n",
    "        comparison.append({\n",
    "            'Temporal Resolution (hr)': h,\n",
    "            'Validation AUC': results[h]['val_auc'],\n",
    "            'Validation AUPRC': results[h]['val_auprc']\n",
    "        })\n",
    "\n",
    "# Display as table\n",
    "comparison_df = pd.DataFrame(comparison)\n",
    "print('Model Performance Comparison by Temporal Resolution:')\n",
    "display(comparison_df)"
   ]
  },
  {
   "cell_type": "markdown",
   "id": "950b9350",
   "metadata": {},
   "source": [
    "## 4. Interpretation\n",
    "\n",
    "This experiment helps identify the earliest time window at which accurate mortality prediction is feasible. Use the plots to select the optimal temporal resolution for clinical deployment."
   ]
  }
 ],
 "metadata": {
  "kernelspec": {
   "display_name": "base",
   "language": "python",
   "name": "python3"
  },
  "language_info": {
   "codemirror_mode": {
    "name": "ipython",
    "version": 3
   },
   "file_extension": ".py",
   "mimetype": "text/x-python",
   "name": "python",
   "nbconvert_exporter": "python",
   "pygments_lexer": "ipython3",
   "version": "3.11.7"
  }
 },
 "nbformat": 4,
 "nbformat_minor": 5
}
